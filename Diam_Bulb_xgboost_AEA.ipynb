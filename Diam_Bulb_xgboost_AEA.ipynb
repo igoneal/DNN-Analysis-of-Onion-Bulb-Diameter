{
 "cells": [
  {
   "cell_type": "code",
   "execution_count": 2,
   "id": "cc86694c",
   "metadata": {},
   "outputs": [
    {
     "name": "stdout",
     "output_type": "stream",
     "text": [
      "Collecting xgboost\n",
      "  Downloading xgboost-1.6.1-py3-none-win_amd64.whl (125.4 MB)\n",
      "Requirement already satisfied: numpy in c:\\users\\igone\\anaconda3\\lib\\site-packages (from xgboost) (1.20.3)\n",
      "Requirement already satisfied: scipy in c:\\users\\igone\\anaconda3\\lib\\site-packages (from xgboost) (1.7.1)\n",
      "Installing collected packages: xgboost\n",
      "Successfully installed xgboost-1.6.1\n"
     ]
    }
   ],
   "source": [
    "!pip install xgboost"
   ]
  },
  {
   "cell_type": "code",
   "execution_count": 1,
   "id": "e8191671",
   "metadata": {},
   "outputs": [],
   "source": [
    "import xgboost as xgb\n",
    "#from sklearn.datasets import load_boston\n",
    "from sklearn.model_selection import train_test_split\n",
    "from sklearn.model_selection import cross_val_score, KFold\n",
    "from sklearn.metrics import mean_squared_error\n",
    "from sklearn.metrics import r2_score\n",
    "import matplotlib.pyplot as plt\n",
    "import pandas as pd\n",
    "import numpy as np"
   ]
  },
  {
   "cell_type": "code",
   "execution_count": 2,
   "id": "a7455126",
   "metadata": {},
   "outputs": [
    {
     "data": {
      "text/html": [
       "<div>\n",
       "<style scoped>\n",
       "    .dataframe tbody tr th:only-of-type {\n",
       "        vertical-align: middle;\n",
       "    }\n",
       "\n",
       "    .dataframe tbody tr th {\n",
       "        vertical-align: top;\n",
       "    }\n",
       "\n",
       "    .dataframe thead th {\n",
       "        text-align: right;\n",
       "    }\n",
       "</style>\n",
       "<table border=\"1\" class=\"dataframe\">\n",
       "  <thead>\n",
       "    <tr style=\"text-align: right;\">\n",
       "      <th></th>\n",
       "      <th>Temp</th>\n",
       "      <th>WC</th>\n",
       "      <th>NL</th>\n",
       "      <th>N(UC)</th>\n",
       "      <th>Fe(UC)</th>\n",
       "      <th>B(UC)</th>\n",
       "      <th>Diameter of Bulb</th>\n",
       "    </tr>\n",
       "  </thead>\n",
       "  <tbody>\n",
       "    <tr>\n",
       "      <th>0</th>\n",
       "      <td>18.3</td>\n",
       "      <td>0.11</td>\n",
       "      <td>5.75</td>\n",
       "      <td>10.99</td>\n",
       "      <td>7.64</td>\n",
       "      <td>14.89</td>\n",
       "      <td>16.03</td>\n",
       "    </tr>\n",
       "    <tr>\n",
       "      <th>1</th>\n",
       "      <td>19.8</td>\n",
       "      <td>0.22</td>\n",
       "      <td>5.79</td>\n",
       "      <td>11.00</td>\n",
       "      <td>7.71</td>\n",
       "      <td>15.01</td>\n",
       "      <td>16.04</td>\n",
       "    </tr>\n",
       "    <tr>\n",
       "      <th>2</th>\n",
       "      <td>18.3</td>\n",
       "      <td>0.31</td>\n",
       "      <td>5.83</td>\n",
       "      <td>11.01</td>\n",
       "      <td>7.84</td>\n",
       "      <td>15.02</td>\n",
       "      <td>16.05</td>\n",
       "    </tr>\n",
       "    <tr>\n",
       "      <th>3</th>\n",
       "      <td>16.9</td>\n",
       "      <td>0.42</td>\n",
       "      <td>5.87</td>\n",
       "      <td>11.02</td>\n",
       "      <td>8.66</td>\n",
       "      <td>15.03</td>\n",
       "      <td>16.06</td>\n",
       "    </tr>\n",
       "    <tr>\n",
       "      <th>4</th>\n",
       "      <td>18.9</td>\n",
       "      <td>0.56</td>\n",
       "      <td>5.91</td>\n",
       "      <td>11.03</td>\n",
       "      <td>8.79</td>\n",
       "      <td>15.05</td>\n",
       "      <td>16.07</td>\n",
       "    </tr>\n",
       "    <tr>\n",
       "      <th>...</th>\n",
       "      <td>...</td>\n",
       "      <td>...</td>\n",
       "      <td>...</td>\n",
       "      <td>...</td>\n",
       "      <td>...</td>\n",
       "      <td>...</td>\n",
       "      <td>...</td>\n",
       "    </tr>\n",
       "    <tr>\n",
       "      <th>86</th>\n",
       "      <td>29.5</td>\n",
       "      <td>15.18</td>\n",
       "      <td>10.23</td>\n",
       "      <td>8.41</td>\n",
       "      <td>35.29</td>\n",
       "      <td>25.82</td>\n",
       "      <td>103.39</td>\n",
       "    </tr>\n",
       "    <tr>\n",
       "      <th>87</th>\n",
       "      <td>27.9</td>\n",
       "      <td>15.21</td>\n",
       "      <td>10.34</td>\n",
       "      <td>8.34</td>\n",
       "      <td>36.07</td>\n",
       "      <td>25.88</td>\n",
       "      <td>103.47</td>\n",
       "    </tr>\n",
       "    <tr>\n",
       "      <th>88</th>\n",
       "      <td>27.1</td>\n",
       "      <td>15.27</td>\n",
       "      <td>10.48</td>\n",
       "      <td>8.32</td>\n",
       "      <td>36.18</td>\n",
       "      <td>25.95</td>\n",
       "      <td>103.49</td>\n",
       "    </tr>\n",
       "    <tr>\n",
       "      <th>89</th>\n",
       "      <td>26.1</td>\n",
       "      <td>15.30</td>\n",
       "      <td>10.51</td>\n",
       "      <td>8.31</td>\n",
       "      <td>37.34</td>\n",
       "      <td>26.90</td>\n",
       "      <td>103.52</td>\n",
       "    </tr>\n",
       "    <tr>\n",
       "      <th>90</th>\n",
       "      <td>26.9</td>\n",
       "      <td>15.37</td>\n",
       "      <td>10.59</td>\n",
       "      <td>8.29</td>\n",
       "      <td>37.42</td>\n",
       "      <td>26.93</td>\n",
       "      <td>103.66</td>\n",
       "    </tr>\n",
       "  </tbody>\n",
       "</table>\n",
       "<p>91 rows × 7 columns</p>\n",
       "</div>"
      ],
      "text/plain": [
       "    Temp     WC     NL  N(UC)  Fe(UC)  B(UC)  Diameter of Bulb\n",
       "0   18.3   0.11   5.75  10.99    7.64  14.89             16.03\n",
       "1   19.8   0.22   5.79  11.00    7.71  15.01             16.04\n",
       "2   18.3   0.31   5.83  11.01    7.84  15.02             16.05\n",
       "3   16.9   0.42   5.87  11.02    8.66  15.03             16.06\n",
       "4   18.9   0.56   5.91  11.03    8.79  15.05             16.07\n",
       "..   ...    ...    ...    ...     ...    ...               ...\n",
       "86  29.5  15.18  10.23   8.41   35.29  25.82            103.39\n",
       "87  27.9  15.21  10.34   8.34   36.07  25.88            103.47\n",
       "88  27.1  15.27  10.48   8.32   36.18  25.95            103.49\n",
       "89  26.1  15.30  10.51   8.31   37.34  26.90            103.52\n",
       "90  26.9  15.37  10.59   8.29   37.42  26.93            103.66\n",
       "\n",
       "[91 rows x 7 columns]"
      ]
     },
     "execution_count": 2,
     "metadata": {},
     "output_type": "execute_result"
    }
   ],
   "source": [
    "raw_dataset = pd.read_csv('G_datasets-AEA.csv')\n",
    "x = raw_dataset.iloc[:, : -1].values\n",
    "y = raw_dataset.iloc[:, 6].values\n",
    "raw_dataset"
   ]
  },
  {
   "cell_type": "code",
   "execution_count": 3,
   "id": "1e0cc3c5",
   "metadata": {},
   "outputs": [],
   "source": [
    "xtrain, xtest, ytrain, ytest = train_test_split(x, y, test_size=0.15)\n"
   ]
  },
  {
   "cell_type": "code",
   "execution_count": 9,
   "id": "5b7fd8c5",
   "metadata": {},
   "outputs": [
    {
     "name": "stdout",
     "output_type": "stream",
     "text": [
      "XGBRegressor(base_score=None, booster=None, callbacks=None,\n",
      "             colsample_bylevel=None, colsample_bynode=None,\n",
      "             colsample_bytree=None, early_stopping_rounds=None,\n",
      "             enable_categorical=False, eval_metric=None, gamma=None,\n",
      "             gpu_id=None, grow_policy=None, importance_type=None,\n",
      "             interaction_constraints=None, learning_rate=None, max_bin=None,\n",
      "             max_cat_to_onehot=None, max_delta_step=None, max_depth=None,\n",
      "             max_leaves=None, min_child_weight=None, missing=nan,\n",
      "             monotone_constraints=None, n_estimators=100, n_jobs=None,\n",
      "             num_parallel_tree=None, predictor=None, random_state=None,\n",
      "             reg_alpha=None, reg_lambda=None, ...)\n",
      "Training score:  0.9999999983765635\n",
      "Mean cross-validation score: 0.99\n",
      "K-fold CV average score: 0.99\n",
      "MSE: 5.12\n",
      "RMSE: 2.26\n"
     ]
    },
    {
     "data": {
      "image/png": "[encoded data removed]",
      "text/plain": [
       "<Figure size 432x288 with 1 Axes>"
      ]
     },
     "metadata": {
      "needs_background": "light"
     },
     "output_type": "display_data"
    }
   ],
   "source": [
    "xgbr = xgb.XGBRegressor(verbosity=0)\n",
    "print(xgbr)\n",
    "\n",
    "xgbr.fit(xtrain, ytrain)\n",
    " \n",
    "score = xgbr.score(xtrain, ytrain)   \n",
    "print(\"Training score: \", score) \n",
    " \n",
    "# - cross validataion \n",
    "scores = cross_val_score(xgbr, xtrain, ytrain, cv=5)\n",
    "print(\"Mean cross-validation score: %.2f\" % scores.mean())\n",
    "\n",
    "kfold = KFold(n_splits=10, shuffle=True)\n",
    "kf_cv_scores = cross_val_score(xgbr, xtrain, ytrain, cv=kfold )\n",
    "print(\"K-fold CV average score: %.2f\" % kf_cv_scores.mean())\n",
    " \n",
    "ypred = xgbr.predict(xtest)\n",
    "r2 = 1 - sum((ytest - ypred) ** 2)/sum((ytest - np.mean(ytest)) ** 2)\n",
    "#r2 = r2_score(ytest,ypred)\n",
    "mse = mean_squared_error(ytest, ypred)\n",
    "print(\"MSE: %.2f\" % mse)\n",
    "print(\"RMSE: %.2f\" % (mse**(1/2.0)))\n",
    "\n",
    "x_ax = range(len(ytest))\n",
    "plt.title('Prediction,True values of Onion Bulb Diameter(AEA Hydroponics)')\n",
    "plt.scatter(x_ax, ytest, s=5, color=\"blue\", label=\"True values\")\n",
    "plt.plot(x_ax, ypred, lw=0.8, color=\"green\", label=\"predicted\")\n",
    "plt.legend()\n",
    "plt.show()"
   ]
  },
  {
   "cell_type": "code",
   "execution_count": 5,
   "id": "a6fb884f",
   "metadata": {},
   "outputs": [
    {
     "name": "stdout",
     "output_type": "stream",
     "text": [
      "ypred = [ 21.960583  18.312563  20.674852  83.17698   66.75031  103.46299\n",
      "  18.255901  20.634287 102.59425   44.511265  19.553713 102.76054\n",
      "  50.894028  91.90979 ]\n"
     ]
    }
   ],
   "source": [
    "print('ypred =',ypred)"
   ]
  },
  {
   "cell_type": "code",
   "execution_count": 6,
   "id": "97c0a309",
   "metadata": {},
   "outputs": [
    {
     "name": "stdout",
     "output_type": "stream",
     "text": [
      "r2_score =  0.9952561716180253\n"
     ]
    }
   ],
   "source": [
    "print('r2_score = ',r2)"
   ]
  },
  {
   "cell_type": "code",
   "execution_count": null,
   "id": "e35c7715",
   "metadata": {},
   "outputs": [],
   "source": []
  }
 ],
 "metadata": {
  "kernelspec": {
   "display_name": "Python 3 (ipykernel)",
   "language": "python",
   "name": "python3"
  },
  "language_info": {
   "codemirror_mode": {
    "name": "ipython",
    "version": 3
   },
   "file_extension": ".py",
   "mimetype": "text/x-python",
   "name": "python",
   "nbconvert_exporter": "python",
   "pygments_lexer": "ipython3",
   "version": "3.9.7"
  }
 },
 "nbformat": 4,
 "nbformat_minor": 5
}
